{
 "cells": [
  {
   "cell_type": "code",
   "execution_count": 1,
   "metadata": {},
   "outputs": [],
   "source": [
    "import pandas as pd\n",
    "import numpy as np\n",
    "import os\n",
    "from langchain.embeddings import SentenceTransformerEmbeddings\n",
    "from langchain.vectorstores import FAISS\n",
    "\n",
    "pd.set_option('display.max_rows', 150)\n",
    "pd.set_option('display.max_columns', 50)\n",
    "pd.set_option('display.max_colwidth', None)"
   ]
  },
  {
   "cell_type": "code",
   "execution_count": 4,
   "metadata": {},
   "outputs": [],
   "source": [
    "CHUNK_SIZES = [50, 100, 200, 500, 750, 1000]\n",
    "CHUNK_OVERLAPS = [0]\n",
    "DOCUMENT_PART_LEN_LIMIT = 500\n",
    "FILE_READING = ['Text', 'Chapter', 'Paragraph']"
   ]
  },
  {
   "cell_type": "code",
   "execution_count": 12,
   "metadata": {},
   "outputs": [],
   "source": [
    "VECTOR_STORES = [f for f in os.listdir(\"./vectorstore_test/\")]"
   ]
  },
  {
   "cell_type": "code",
   "execution_count": 14,
   "metadata": {},
   "outputs": [],
   "source": [
    "#Read vector stores\n",
    "databases = {}\n",
    "embeddings = SentenceTransformerEmbeddings(model_name=\"bert-large-nli-mean-tokens\")\n",
    "for vector_store in VECTOR_STORES:\n",
    "    databases[vector_store] = FAISS.load_local(\"./vectorstore_test/\" + vector_store, embeddings)"
   ]
  },
  {
   "cell_type": "code",
   "execution_count": 15,
   "metadata": {},
   "outputs": [],
   "source": [
    "#Read and filter questions\n",
    "qa = pd.read_json(path_or_buf=\"./gold_questions.jsonl\", lines=True)\n",
    "qa['documents'] = qa['documents'].apply(lambda x: x[0])\n",
    "qa = qa[qa['documents'].isin(['SD.00014', 'CEP-036_D', 'CS-ROUTING', 'SD.00052_-', 'PS.50005-05_E', 'CEP.00018_no STL HARM', 'MS.90504', 'MS.50010', 'CEP.00018', 'PS.50010S_RevB-IT', 'PS.50010S', 'MS.90170', 'MS.50002', 'SD-A1333'])]\n",
    "evaluation_questions = [0,1,2,3,4,5,6,14,15]\n",
    "qa = qa[qa['question_id'].isin(evaluation_questions)]"
   ]
  },
  {
   "cell_type": "code",
   "execution_count": 18,
   "metadata": {},
   "outputs": [
    {
     "data": {
      "text/html": [
       "<div>\n",
       "<style scoped>\n",
       "    .dataframe tbody tr th:only-of-type {\n",
       "        vertical-align: middle;\n",
       "    }\n",
       "\n",
       "    .dataframe tbody tr th {\n",
       "        vertical-align: top;\n",
       "    }\n",
       "\n",
       "    .dataframe thead th {\n",
       "        text-align: right;\n",
       "    }\n",
       "</style>\n",
       "<table border=\"1\" class=\"dataframe\">\n",
       "  <thead>\n",
       "    <tr style=\"text-align: right;\">\n",
       "      <th></th>\n",
       "      <th>vector_store</th>\n",
       "      <th>k</th>\n",
       "      <th>accuracy</th>\n",
       "    </tr>\n",
       "  </thead>\n",
       "  <tbody>\n",
       "    <tr>\n",
       "      <th>0</th>\n",
       "      <td>Chapter_limit500_chunk1000_overlap0</td>\n",
       "      <td>1</td>\n",
       "      <td>48.4</td>\n",
       "    </tr>\n",
       "    <tr>\n",
       "      <th>1</th>\n",
       "      <td>Paragraph_limit500_chunk1000_overlap0</td>\n",
       "      <td>1</td>\n",
       "      <td>41.9</td>\n",
       "    </tr>\n",
       "    <tr>\n",
       "      <th>2</th>\n",
       "      <td>Text_limit500_chunk1000_overlap0</td>\n",
       "      <td>1</td>\n",
       "      <td>25.8</td>\n",
       "    </tr>\n",
       "    <tr>\n",
       "      <th>3</th>\n",
       "      <td>Chapter_limit500_chunk1000_overlap0</td>\n",
       "      <td>5</td>\n",
       "      <td>74.2</td>\n",
       "    </tr>\n",
       "    <tr>\n",
       "      <th>4</th>\n",
       "      <td>Paragraph_limit500_chunk1000_overlap0</td>\n",
       "      <td>5</td>\n",
       "      <td>83.9</td>\n",
       "    </tr>\n",
       "    <tr>\n",
       "      <th>5</th>\n",
       "      <td>Text_limit500_chunk1000_overlap0</td>\n",
       "      <td>5</td>\n",
       "      <td>67.7</td>\n",
       "    </tr>\n",
       "    <tr>\n",
       "      <th>6</th>\n",
       "      <td>Chapter_limit500_chunk1000_overlap0</td>\n",
       "      <td>10</td>\n",
       "      <td>87.1</td>\n",
       "    </tr>\n",
       "    <tr>\n",
       "      <th>7</th>\n",
       "      <td>Paragraph_limit500_chunk1000_overlap0</td>\n",
       "      <td>10</td>\n",
       "      <td>90.3</td>\n",
       "    </tr>\n",
       "    <tr>\n",
       "      <th>8</th>\n",
       "      <td>Text_limit500_chunk1000_overlap0</td>\n",
       "      <td>10</td>\n",
       "      <td>83.9</td>\n",
       "    </tr>\n",
       "  </tbody>\n",
       "</table>\n",
       "</div>"
      ],
      "text/plain": [
       "                            vector_store   k  accuracy\n",
       "0    Chapter_limit500_chunk1000_overlap0   1      48.4\n",
       "1  Paragraph_limit500_chunk1000_overlap0   1      41.9\n",
       "2       Text_limit500_chunk1000_overlap0   1      25.8\n",
       "3    Chapter_limit500_chunk1000_overlap0   5      74.2\n",
       "4  Paragraph_limit500_chunk1000_overlap0   5      83.9\n",
       "5       Text_limit500_chunk1000_overlap0   5      67.7\n",
       "6    Chapter_limit500_chunk1000_overlap0  10      87.1\n",
       "7  Paragraph_limit500_chunk1000_overlap0  10      90.3\n",
       "8       Text_limit500_chunk1000_overlap0  10      83.9"
      ]
     },
     "execution_count": 18,
     "metadata": {},
     "output_type": "execute_result"
    }
   ],
   "source": [
    "#Calculate accuracies for different k\n",
    "acc = []\n",
    "for k in [1,5,10]:\n",
    "    for vector_store in VECTOR_STORES:\n",
    "        qa.loc[:, vector_store] = qa['question'].apply(lambda q: [(res.metadata[\"filename\"], res.metadata.get(\"chapter\",\"N/A\")) for res in databases[vector_store].similarity_search(q, k=k)])\n",
    "        acc.append({\"vector_store\": vector_store,\"k\": k, \"accuracy\": round(100*(qa.apply(lambda x: x['documents'] in [d[0] for d in x[vector_store]], axis=1)).sum()/qa.shape[0], 1)})\n",
    "pd.DataFrame(acc)"
   ]
  },
  {
   "cell_type": "code",
   "execution_count": null,
   "metadata": {},
   "outputs": [],
   "source": [
    "#Manually validate query search\n",
    "q_id = 2\n",
    "vector_store = 'Chapter_limit500_chunk1000_overlap0'\n",
    "k=20\n",
    "\n",
    "q = qa.iloc[q_id][['question','ground_truth','documents','paragraphs_location']]\n",
    "res = databases[vector_store].similarity_search(q['question'], k=k)\n",
    "\n",
    "print(list(q))\n",
    "pd.DataFrame([(r.page_content, r.metadata.get('filename','NA'), r.metadata.get('chapter','NA')) for r in res], columns=['context', 'document', 'chapter'])"
   ]
  },
  {
   "cell_type": "code",
   "execution_count": null,
   "metadata": {},
   "outputs": [],
   "source": []
  }
 ],
 "metadata": {
  "kernelspec": {
   "display_name": "llm_env",
   "language": "python",
   "name": "python3"
  },
  "language_info": {
   "codemirror_mode": {
    "name": "ipython",
    "version": 3
   },
   "file_extension": ".py",
   "mimetype": "text/x-python",
   "name": "python",
   "nbconvert_exporter": "python",
   "pygments_lexer": "ipython3",
   "version": "3.9.18"
  },
  "orig_nbformat": 4
 },
 "nbformat": 4,
 "nbformat_minor": 2
}
