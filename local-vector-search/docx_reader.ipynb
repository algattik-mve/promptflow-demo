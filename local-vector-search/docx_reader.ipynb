{
 "cells": [
  {
   "cell_type": "code",
   "execution_count": 135,
   "metadata": {},
   "outputs": [],
   "source": [
    "import docx\n",
    "import re\n",
    "from itertools import groupby"
   ]
  },
  {
   "cell_type": "code",
   "execution_count": 2,
   "metadata": {},
   "outputs": [],
   "source": [
    "def process_single_file_chapters(filename):\n",
    "    doc = docx.Document(filename)\n",
    "    short_filename = filename.split(\"/\")[-1].replace(\".docx\",\"\")\n",
    "    full_document = []\n",
    "    current_chapter = []\n",
    "    current_chapter_name = \"\"\n",
    "    for elem in doc.iter_inner_content():\n",
    "        if isinstance(elem, docx.table.Table):\n",
    "            current_chapter.append(process_table_as_text(elem))\n",
    "        elif isinstance(elem, docx.text.paragraph.Paragraph):\n",
    "            paragraph_text = process_paragraph(elem)\n",
    "            if len(paragraph_text) == 0:\n",
    "                continue\n",
    "            if elem.style.name.startswith(\"Heading\"):\n",
    "                if len(current_chapter) > 0:\n",
    "                    full_document.append((short_filename, current_chapter_name, \" \".join(current_chapter)))\n",
    "                current_chapter = [paragraph_text]\n",
    "                current_chapter_name = paragraph_text\n",
    "            else:\n",
    "                current_chapter.append(paragraph_text)\n",
    "    return full_document"
   ]
  },
  {
   "cell_type": "code",
   "execution_count": 179,
   "metadata": {},
   "outputs": [],
   "source": [
    "filename= './data_sample/MS.50002.docx'"
   ]
  },
  {
   "cell_type": "markdown",
   "metadata": {},
   "source": [
    "### Util functions"
   ]
  },
  {
   "cell_type": "code",
   "execution_count": 73,
   "metadata": {},
   "outputs": [],
   "source": [
    "def clean_multiple_newlines(text):\n",
    "    return re.sub(r'\\n+', '\\n', text).strip()"
   ]
  },
  {
   "cell_type": "markdown",
   "metadata": {},
   "source": [
    "### Header"
   ]
  },
  {
   "cell_type": "code",
   "execution_count": 71,
   "metadata": {},
   "outputs": [],
   "source": [
    "def get_header_title_only(doc):\n",
    "    header_info = []\n",
    "    return  doc.sections[0].first_page_header.tables[0].rows[0].cells[1].text"
   ]
  },
  {
   "cell_type": "code",
   "execution_count": 59,
   "metadata": {},
   "outputs": [],
   "source": [
    "def get_header_all_information(doc):\n",
    "    header_info = []\n",
    "    for a in doc.sections[0].first_page_header.tables:\n",
    "        for i, row in enumerate(a.rows):\n",
    "            for j, cell in enumerate(row.cells):\n",
    "                if (cell.text!=\"\") & (cell.text not in header_info):\n",
    "                    header_info.append(cell.text)\n",
    "    return header_info"
   ]
  },
  {
   "cell_type": "markdown",
   "metadata": {},
   "source": [
    "### Main content"
   ]
  },
  {
   "cell_type": "code",
   "execution_count": 102,
   "metadata": {},
   "outputs": [],
   "source": [
    "def process_table_as_text(table, rows_separatelly=False):\n",
    "    table_text = []\n",
    "    prev_cell = None\n",
    "    for i, row in enumerate(table.rows):\n",
    "        row_text = []\n",
    "        for j, cell in enumerate(row.cells):\n",
    "            if cell._tc == prev_cell:\n",
    "                continue\n",
    "            if cell.text:\n",
    "                row_text.append(clean_multiple_newlines(cell.text))\n",
    "            prev_cell = cell._tc\n",
    "        table_text.append(\"; \".join(row_text))\n",
    "    if not rows_separatelly:\n",
    "        table_text = \"\\n\".join(table_text)\n",
    "    return table_text\n",
    "\n",
    "def process_paragraph(paragraph):\n",
    "    return clean_multiple_newlines(paragraph.text)"
   ]
  },
  {
   "cell_type": "code",
   "execution_count": 169,
   "metadata": {},
   "outputs": [],
   "source": [
    "def read_file(filename, group_by_chapter=False, group_by_file=False):\n",
    "    doc = docx.Document(filename)\n",
    "    short_filename = filename.split(\"/\")[-1].replace(\".docx\",\"\")\n",
    "    full_document = []\n",
    "    current_chapter_name = \"First page and table of contents\"\n",
    "    for elem in doc.iter_inner_content():\n",
    "        if isinstance(elem, docx.table.Table):\n",
    "            full_document.append((short_filename, current_chapter_name, process_table_as_text(elem)))\n",
    "        elif isinstance(elem, docx.text.paragraph.Paragraph):\n",
    "            paragraph_text = process_paragraph(elem)\n",
    "            if len(paragraph_text) == 0:\n",
    "                continue\n",
    "            if elem.style.name.startswith(\"Heading\"):\n",
    "                current_chapter_name = paragraph_text\n",
    "            full_document.append((short_filename, current_chapter_name, paragraph_text))\n",
    "    \n",
    "    if group_by_chapter:\n",
    "        full_document = groupby(full_document, key=lambda x: (x[0],x[1]))\n",
    "        full_document = [(*key, \"\\n\".join([item[2] for item in vals])) for key,vals in full_document]\n",
    "    if group_by_file:\n",
    "        full_document = [(full_document[0][0], \"N/A\", \"\\n\".join([paragraph[2] for paragraph in full_document]))]\n",
    "\n",
    "    return full_document"
   ]
  },
  {
   "cell_type": "code",
   "execution_count": 180,
   "metadata": {},
   "outputs": [],
   "source": [
    "res = read_file(filename, group_by_chapter=True, group_by_file=False)"
   ]
  },
  {
   "cell_type": "code",
   "execution_count": null,
   "metadata": {},
   "outputs": [],
   "source": []
  }
 ],
 "metadata": {
  "kernelspec": {
   "display_name": "llm_env",
   "language": "python",
   "name": "python3"
  },
  "language_info": {
   "codemirror_mode": {
    "name": "ipython",
    "version": 3
   },
   "file_extension": ".py",
   "mimetype": "text/x-python",
   "name": "python",
   "nbconvert_exporter": "python",
   "pygments_lexer": "ipython3",
   "version": "3.9.18"
  },
  "orig_nbformat": 4
 },
 "nbformat": 4,
 "nbformat_minor": 2
}
