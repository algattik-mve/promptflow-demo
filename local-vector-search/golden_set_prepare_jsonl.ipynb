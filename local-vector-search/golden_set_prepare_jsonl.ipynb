{
 "cells": [
  {
   "cell_type": "code",
   "execution_count": 1,
   "metadata": {},
   "outputs": [],
   "source": [
    "import pandas as pd"
   ]
  },
  {
   "cell_type": "code",
   "execution_count": null,
   "metadata": {},
   "outputs": [],
   "source": [
    "def transform_golden_qa_to_jsonl(file_location):\n",
    "    df = pd.read_excel(file_location, sheet_name=\"Golden Q&A set\", header=0)\n",
    "    question_cols = [\"Question\", \"Alternate question phrasing / variant #1\", \"Alternate question phrasing / variant #2\", \"Alternate question phrasing / variant #3\"]\n",
    "    colnames = {\"Correct answer\": \"ground_truth\", \"Document (set of documents)that contains the answer\": \"documents\",\n",
    "                \"Description of search intent\\n(optional)\": \"intent\", \"t\": \"paragraphs_location\"}\n",
    "    desired_column_order = [\"question\", \"ground_truth\", \"documents\", \"paragraphs_location\", \"intent\", \"question_id\"]\n",
    "\n",
    "    df.loc[:, \"question\"] = df[question_cols].apply(lambda x: list(x.dropna()), axis=1)\n",
    "    df = df[[\"question\"] + list(colnames.keys())]\n",
    "    df = df.explode('question').reset_index().rename(columns=colnames).rename(columns={\"index\": \"question_id\"})\n",
    "    \n",
    "    df = df[desired_column_order]\n",
    "    df.to_json(\"golden_qa_set.json\", orient=\"records\")"
   ]
  },
  {
   "cell_type": "code",
   "execution_count": null,
   "metadata": {},
   "outputs": [],
   "source": [
    "transform_golden_qa_to_jsonl(\"./Golden Q&A set.xlsx\")"
   ]
  }
 ],
 "metadata": {
  "kernelspec": {
   "display_name": "llm_env",
   "language": "python",
   "name": "python3"
  },
  "language_info": {
   "codemirror_mode": {
    "name": "ipython",
    "version": 3
   },
   "file_extension": ".py",
   "mimetype": "text/x-python",
   "name": "python",
   "nbconvert_exporter": "python",
   "pygments_lexer": "ipython3",
   "version": "3.9.18"
  },
  "orig_nbformat": 4
 },
 "nbformat": 4,
 "nbformat_minor": 2
}
